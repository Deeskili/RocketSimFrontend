{
 "cells": [
  {
   "cell_type": "markdown",
   "metadata": {},
   "source": [
    "---\n",
    "comments: True\n",
    "layout: notebook\n",
    "title: console log testing for URL API \n",
    "description: \n",
    "type: hacks\n",
    "courses: {'compsci': {'week': 0}}\n",
    "categories: ['C4.1']\n",
    "---"
   ]
  },
  {
   "cell_type": "code",
   "execution_count": 2,
   "metadata": {
    "vscode": {
     "languageId": "javascript"
    }
   },
   "outputs": [
    {
     "data": {
      "application/javascript": "// API URL\nconst apiUrl = \"https://backendrocketmain.stu.nighthawkcodingsociety.com/api/recipe/recipes\";\n\n// Fetch data from the API\nfetch(apiUrl)\n    .then(response => {\n        if (!response.ok) {\n            throw new Error(`Network response was not ok: ${response.status}`);\n        }\n        return response.json();\n    })\n    .then(data => {\n        // Process and display the data\n        console.log(\"Data from the API:\", data);\n    })\n    .catch(error => {\n        console.error(\"There was a problem fetching the data:\", error);\n    });\n",
      "text/plain": [
       "<IPython.core.display.Javascript object>"
      ]
     },
     "metadata": {},
     "output_type": "display_data"
    }
   ],
   "source": [
    "%%js\n",
    "const apiUrl = \"https://backendrocketmain.stu.nighthawkcodingsociety.com/api/recipe/recipes\";\n",
    "fetch(apiUrl)\n",
    "    .then(response => {\n",
    "        if (!response.ok) {\n",
    "            throw new Error(`Network response was not ok: ${response.status}`);\n",
    "        }\n",
    "        return response.json();\n",
    "    })\n",
    "    .then(data => {\n",
    "        console.log(\"Data from the API:\", data);\n",
    "    })\n",
    "    .catch(error => {\n",
    "        console.error(\"There was a problem fetching the data:\", error);\n",
    "    });"
   ]
  }
 ],
 "metadata": {
  "kernelspec": {
   "display_name": "Python 3",
   "language": "python",
   "name": "python3"
  },
  "language_info": {
   "codemirror_mode": {
    "name": "ipython",
    "version": 3
   },
   "file_extension": ".py",
   "mimetype": "text/x-python",
   "name": "python",
   "nbconvert_exporter": "python",
   "pygments_lexer": "ipython3",
   "version": "3.11.4"
  },
  "orig_nbformat": 4
 },
 "nbformat": 4,
 "nbformat_minor": 2
}
