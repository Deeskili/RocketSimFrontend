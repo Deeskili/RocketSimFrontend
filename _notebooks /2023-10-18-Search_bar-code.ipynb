{
 "cells": [
  {
   "cell_type": "markdown",
   "metadata": {},
   "source": [
    "---\n",
    "comments: True\n",
    "layout: notebook\n",
    "title: Search Bar Code\n",
    "description: \n",
    "type: hacks\n",
    "courses: {'compsci': {'week': 0}}\n",
    "categories: ['C4.1']\n",
    "---"
   ]
  },
  {
   "cell_type": "code",
   "execution_count": 6,
   "metadata": {
    "vscode": {
     "languageId": "html"
    }
   },
   "outputs": [
    {
     "data": {
      "text/html": [
       "<html>\n",
       "    <head>\n",
       "        <title>Recipe API Search</title>\n",
       "        <style>\n",
       "            body {\n",
       "                font-family: Arial, sans-serif;\n",
       "        }\n",
       "        h1 {\n",
       "            text-align: center;\n",
       "        }\n",
       "        .search-container {\n",
       "            text-align: center;\n",
       "        }\n",
       "        .search-input {\n",
       "            padding: 10px;\n",
       "            border: 2px solid #ccc;\n",
       "            border-radius: 5px;\n",
       "            width: 250px;\n",
       "            font-size: 16px;\n",
       "        }\n",
       "        .search-button {\n",
       "            background-color: #4CAF50;\n",
       "            color: white;\n",
       "            border: none;\n",
       "            border-radius: 5px;\n",
       "            padding: 10px 20px;\n",
       "            cursor: pointer;\n",
       "            font-size: 16px;\n",
       "        }\n",
       "        .search-button:hover {\n",
       "            background-color: #45a049;\n",
       "        }\n",
       "        #searchResults {\n",
       "            margin-top: 20px;\n",
       "            text-align: center;\n",
       "        }\n",
       "    </style>\n",
       "   </head>\n",
       "</html>\n"
      ],
      "text/plain": [
       "<IPython.core.display.HTML object>"
      ]
     },
     "metadata": {},
     "output_type": "display_data"
    }
   ],
   "source": [
    "%%html\n",
    "<html>\n",
    "    <head>\n",
    "        <title>Recipe API Search</title>\n",
    "        <style>\n",
    "            body {\n",
    "                font-family: Arial, sans-serif;\n",
    "        }\n",
    "        h1 {\n",
    "            text-align: center;\n",
    "        }\n",
    "        .search-container {\n",
    "            text-align: center;\n",
    "        }\n",
    "        .search-input {\n",
    "            padding: 10px;\n",
    "            border: 2px solid #ccc;\n",
    "            border-radius: 5px;\n",
    "            width: 250px;\n",
    "            font-size: 16px;\n",
    "        }\n",
    "        .search-button {\n",
    "            background-color: #4CAF50;\n",
    "            color: white;\n",
    "            border: none;\n",
    "            border-radius: 5px;\n",
    "            padding: 10px 20px;\n",
    "            cursor: pointer;\n",
    "            font-size: 16px;\n",
    "        }\n",
    "        .search-button:hover {\n",
    "            background-color: #45a049;\n",
    "        }\n",
    "        #searchResults {\n",
    "            margin-top: 20px;\n",
    "            text-align: center;\n",
    "        }\n",
    "    </style>\n",
    "   </head>\n",
    "</html>\n"
   ]
  }
 ],
 "metadata": {
  "kernelspec": {
   "display_name": "Python 3",
   "language": "python",
   "name": "python3"
  },
  "language_info": {
   "codemirror_mode": {
    "name": "ipython",
    "version": 3
   },
   "file_extension": ".py",
   "mimetype": "text/x-python",
   "name": "python",
   "nbconvert_exporter": "python",
   "pygments_lexer": "ipython3",
   "version": "3.11.4"
  },
  "orig_nbformat": 4
 },
 "nbformat": 4,
 "nbformat_minor": 2
}
